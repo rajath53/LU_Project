{
  "nbformat": 4,
  "nbformat_minor": 0,
  "metadata": {
    "colab": {
      "provenance": []
    },
    "kernelspec": {
      "name": "python3",
      "display_name": "Python 3"
    },
    "language_info": {
      "name": "python"
    }
  },
  "cells": [
    {
      "cell_type": "code",
      "execution_count": 1,
      "metadata": {
        "id": "W9KDUf1--FqB"
      },
      "outputs": [],
      "source": [
        "# importing the libraries\n",
        "import numpy as np\n",
        "import pandas as pd\n",
        "\n",
        "import matplotlib.pyplot as plt\n",
        "import seaborn as sns"
      ]
    },
    {
      "cell_type": "code",
      "source": [
        "# Importing the libraries\n",
        "data = pd.read_csv('insurance.csv')\n",
        "\n",
        "print(data.shape)\n",
        "\n",
        "data.head()"
      ],
      "metadata": {
        "colab": {
          "base_uri": "https://localhost:8080/",
          "height": 224
        },
        "id": "fQEg5qRNAY5u",
        "outputId": "56617ece-8f81-400a-b98d-b67ef2b76e75"
      },
      "execution_count": 3,
      "outputs": [
        {
          "output_type": "stream",
          "name": "stdout",
          "text": [
            "(1338, 7)\n"
          ]
        },
        {
          "output_type": "execute_result",
          "data": {
            "text/plain": [
              "   age     sex     bmi  children smoker     region      charges\n",
              "0   19  female  27.900         0    yes  southwest  16884.92400\n",
              "1   18    male  33.770         1     no  southeast   1725.55230\n",
              "2   28    male  33.000         3     no  southeast   4449.46200\n",
              "3   33    male  22.705         0     no  northwest  21984.47061\n",
              "4   32    male  28.880         0     no  northwest   3866.85520"
            ],
            "text/html": [
              "\n",
              "  <div id=\"df-cf2d4341-bca8-4a85-be29-d221f54346ab\">\n",
              "    <div class=\"colab-df-container\">\n",
              "      <div>\n",
              "<style scoped>\n",
              "    .dataframe tbody tr th:only-of-type {\n",
              "        vertical-align: middle;\n",
              "    }\n",
              "\n",
              "    .dataframe tbody tr th {\n",
              "        vertical-align: top;\n",
              "    }\n",
              "\n",
              "    .dataframe thead th {\n",
              "        text-align: right;\n",
              "    }\n",
              "</style>\n",
              "<table border=\"1\" class=\"dataframe\">\n",
              "  <thead>\n",
              "    <tr style=\"text-align: right;\">\n",
              "      <th></th>\n",
              "      <th>age</th>\n",
              "      <th>sex</th>\n",
              "      <th>bmi</th>\n",
              "      <th>children</th>\n",
              "      <th>smoker</th>\n",
              "      <th>region</th>\n",
              "      <th>charges</th>\n",
              "    </tr>\n",
              "  </thead>\n",
              "  <tbody>\n",
              "    <tr>\n",
              "      <th>0</th>\n",
              "      <td>19</td>\n",
              "      <td>female</td>\n",
              "      <td>27.900</td>\n",
              "      <td>0</td>\n",
              "      <td>yes</td>\n",
              "      <td>southwest</td>\n",
              "      <td>16884.92400</td>\n",
              "    </tr>\n",
              "    <tr>\n",
              "      <th>1</th>\n",
              "      <td>18</td>\n",
              "      <td>male</td>\n",
              "      <td>33.770</td>\n",
              "      <td>1</td>\n",
              "      <td>no</td>\n",
              "      <td>southeast</td>\n",
              "      <td>1725.55230</td>\n",
              "    </tr>\n",
              "    <tr>\n",
              "      <th>2</th>\n",
              "      <td>28</td>\n",
              "      <td>male</td>\n",
              "      <td>33.000</td>\n",
              "      <td>3</td>\n",
              "      <td>no</td>\n",
              "      <td>southeast</td>\n",
              "      <td>4449.46200</td>\n",
              "    </tr>\n",
              "    <tr>\n",
              "      <th>3</th>\n",
              "      <td>33</td>\n",
              "      <td>male</td>\n",
              "      <td>22.705</td>\n",
              "      <td>0</td>\n",
              "      <td>no</td>\n",
              "      <td>northwest</td>\n",
              "      <td>21984.47061</td>\n",
              "    </tr>\n",
              "    <tr>\n",
              "      <th>4</th>\n",
              "      <td>32</td>\n",
              "      <td>male</td>\n",
              "      <td>28.880</td>\n",
              "      <td>0</td>\n",
              "      <td>no</td>\n",
              "      <td>northwest</td>\n",
              "      <td>3866.85520</td>\n",
              "    </tr>\n",
              "  </tbody>\n",
              "</table>\n",
              "</div>\n",
              "      <button class=\"colab-df-convert\" onclick=\"convertToInteractive('df-cf2d4341-bca8-4a85-be29-d221f54346ab')\"\n",
              "              title=\"Convert this dataframe to an interactive table.\"\n",
              "              style=\"display:none;\">\n",
              "        \n",
              "  <svg xmlns=\"http://www.w3.org/2000/svg\" height=\"24px\"viewBox=\"0 0 24 24\"\n",
              "       width=\"24px\">\n",
              "    <path d=\"M0 0h24v24H0V0z\" fill=\"none\"/>\n",
              "    <path d=\"M18.56 5.44l.94 2.06.94-2.06 2.06-.94-2.06-.94-.94-2.06-.94 2.06-2.06.94zm-11 1L8.5 8.5l.94-2.06 2.06-.94-2.06-.94L8.5 2.5l-.94 2.06-2.06.94zm10 10l.94 2.06.94-2.06 2.06-.94-2.06-.94-.94-2.06-.94 2.06-2.06.94z\"/><path d=\"M17.41 7.96l-1.37-1.37c-.4-.4-.92-.59-1.43-.59-.52 0-1.04.2-1.43.59L10.3 9.45l-7.72 7.72c-.78.78-.78 2.05 0 2.83L4 21.41c.39.39.9.59 1.41.59.51 0 1.02-.2 1.41-.59l7.78-7.78 2.81-2.81c.8-.78.8-2.07 0-2.86zM5.41 20L4 18.59l7.72-7.72 1.47 1.35L5.41 20z\"/>\n",
              "  </svg>\n",
              "      </button>\n",
              "      \n",
              "  <style>\n",
              "    .colab-df-container {\n",
              "      display:flex;\n",
              "      flex-wrap:wrap;\n",
              "      gap: 12px;\n",
              "    }\n",
              "\n",
              "    .colab-df-convert {\n",
              "      background-color: #E8F0FE;\n",
              "      border: none;\n",
              "      border-radius: 50%;\n",
              "      cursor: pointer;\n",
              "      display: none;\n",
              "      fill: #1967D2;\n",
              "      height: 32px;\n",
              "      padding: 0 0 0 0;\n",
              "      width: 32px;\n",
              "    }\n",
              "\n",
              "    .colab-df-convert:hover {\n",
              "      background-color: #E2EBFA;\n",
              "      box-shadow: 0px 1px 2px rgba(60, 64, 67, 0.3), 0px 1px 3px 1px rgba(60, 64, 67, 0.15);\n",
              "      fill: #174EA6;\n",
              "    }\n",
              "\n",
              "    [theme=dark] .colab-df-convert {\n",
              "      background-color: #3B4455;\n",
              "      fill: #D2E3FC;\n",
              "    }\n",
              "\n",
              "    [theme=dark] .colab-df-convert:hover {\n",
              "      background-color: #434B5C;\n",
              "      box-shadow: 0px 1px 3px 1px rgba(0, 0, 0, 0.15);\n",
              "      filter: drop-shadow(0px 1px 2px rgba(0, 0, 0, 0.3));\n",
              "      fill: #FFFFFF;\n",
              "    }\n",
              "  </style>\n",
              "\n",
              "      <script>\n",
              "        const buttonEl =\n",
              "          document.querySelector('#df-cf2d4341-bca8-4a85-be29-d221f54346ab button.colab-df-convert');\n",
              "        buttonEl.style.display =\n",
              "          google.colab.kernel.accessAllowed ? 'block' : 'none';\n",
              "\n",
              "        async function convertToInteractive(key) {\n",
              "          const element = document.querySelector('#df-cf2d4341-bca8-4a85-be29-d221f54346ab');\n",
              "          const dataTable =\n",
              "            await google.colab.kernel.invokeFunction('convertToInteractive',\n",
              "                                                     [key], {});\n",
              "          if (!dataTable) return;\n",
              "\n",
              "          const docLinkHtml = 'Like what you see? Visit the ' +\n",
              "            '<a target=\"_blank\" href=https://colab.research.google.com/notebooks/data_table.ipynb>data table notebook</a>'\n",
              "            + ' to learn more about interactive tables.';\n",
              "          element.innerHTML = '';\n",
              "          dataTable['output_type'] = 'display_data';\n",
              "          await google.colab.output.renderOutput(dataTable, element);\n",
              "          const docLink = document.createElement('div');\n",
              "          docLink.innerHTML = docLinkHtml;\n",
              "          element.appendChild(docLink);\n",
              "        }\n",
              "      </script>\n",
              "    </div>\n",
              "  </div>\n",
              "  "
            ]
          },
          "metadata": {},
          "execution_count": 3
        }
      ]
    },
    {
      "cell_type": "code",
      "source": [
        "data.info()"
      ],
      "metadata": {
        "colab": {
          "base_uri": "https://localhost:8080/"
        },
        "id": "Bc1fu3kaAiZ9",
        "outputId": "5d17c2b4-69b2-4ee9-ebb9-97b8f084a089"
      },
      "execution_count": 4,
      "outputs": [
        {
          "output_type": "stream",
          "name": "stdout",
          "text": [
            "<class 'pandas.core.frame.DataFrame'>\n",
            "RangeIndex: 1338 entries, 0 to 1337\n",
            "Data columns (total 7 columns):\n",
            " #   Column    Non-Null Count  Dtype  \n",
            "---  ------    --------------  -----  \n",
            " 0   age       1338 non-null   int64  \n",
            " 1   sex       1338 non-null   object \n",
            " 2   bmi       1338 non-null   float64\n",
            " 3   children  1338 non-null   int64  \n",
            " 4   smoker    1338 non-null   object \n",
            " 5   region    1338 non-null   object \n",
            " 6   charges   1338 non-null   float64\n",
            "dtypes: float64(2), int64(2), object(3)\n",
            "memory usage: 73.3+ KB\n"
          ]
        }
      ]
    },
    {
      "cell_type": "code",
      "source": [
        "data.describe()"
      ],
      "metadata": {
        "colab": {
          "base_uri": "https://localhost:8080/",
          "height": 300
        },
        "id": "DT02PWT_ApGc",
        "outputId": "80b48b49-d242-4605-e476-abfecd82561a"
      },
      "execution_count": 5,
      "outputs": [
        {
          "output_type": "execute_result",
          "data": {
            "text/plain": [
              "               age          bmi     children       charges\n",
              "count  1338.000000  1338.000000  1338.000000   1338.000000\n",
              "mean     39.207025    30.663397     1.094918  13270.422265\n",
              "std      14.049960     6.098187     1.205493  12110.011237\n",
              "min      18.000000    15.960000     0.000000   1121.873900\n",
              "25%      27.000000    26.296250     0.000000   4740.287150\n",
              "50%      39.000000    30.400000     1.000000   9382.033000\n",
              "75%      51.000000    34.693750     2.000000  16639.912515\n",
              "max      64.000000    53.130000     5.000000  63770.428010"
            ],
            "text/html": [
              "\n",
              "  <div id=\"df-02c2f3f9-e1bc-4591-ba6d-de8e995dab27\">\n",
              "    <div class=\"colab-df-container\">\n",
              "      <div>\n",
              "<style scoped>\n",
              "    .dataframe tbody tr th:only-of-type {\n",
              "        vertical-align: middle;\n",
              "    }\n",
              "\n",
              "    .dataframe tbody tr th {\n",
              "        vertical-align: top;\n",
              "    }\n",
              "\n",
              "    .dataframe thead th {\n",
              "        text-align: right;\n",
              "    }\n",
              "</style>\n",
              "<table border=\"1\" class=\"dataframe\">\n",
              "  <thead>\n",
              "    <tr style=\"text-align: right;\">\n",
              "      <th></th>\n",
              "      <th>age</th>\n",
              "      <th>bmi</th>\n",
              "      <th>children</th>\n",
              "      <th>charges</th>\n",
              "    </tr>\n",
              "  </thead>\n",
              "  <tbody>\n",
              "    <tr>\n",
              "      <th>count</th>\n",
              "      <td>1338.000000</td>\n",
              "      <td>1338.000000</td>\n",
              "      <td>1338.000000</td>\n",
              "      <td>1338.000000</td>\n",
              "    </tr>\n",
              "    <tr>\n",
              "      <th>mean</th>\n",
              "      <td>39.207025</td>\n",
              "      <td>30.663397</td>\n",
              "      <td>1.094918</td>\n",
              "      <td>13270.422265</td>\n",
              "    </tr>\n",
              "    <tr>\n",
              "      <th>std</th>\n",
              "      <td>14.049960</td>\n",
              "      <td>6.098187</td>\n",
              "      <td>1.205493</td>\n",
              "      <td>12110.011237</td>\n",
              "    </tr>\n",
              "    <tr>\n",
              "      <th>min</th>\n",
              "      <td>18.000000</td>\n",
              "      <td>15.960000</td>\n",
              "      <td>0.000000</td>\n",
              "      <td>1121.873900</td>\n",
              "    </tr>\n",
              "    <tr>\n",
              "      <th>25%</th>\n",
              "      <td>27.000000</td>\n",
              "      <td>26.296250</td>\n",
              "      <td>0.000000</td>\n",
              "      <td>4740.287150</td>\n",
              "    </tr>\n",
              "    <tr>\n",
              "      <th>50%</th>\n",
              "      <td>39.000000</td>\n",
              "      <td>30.400000</td>\n",
              "      <td>1.000000</td>\n",
              "      <td>9382.033000</td>\n",
              "    </tr>\n",
              "    <tr>\n",
              "      <th>75%</th>\n",
              "      <td>51.000000</td>\n",
              "      <td>34.693750</td>\n",
              "      <td>2.000000</td>\n",
              "      <td>16639.912515</td>\n",
              "    </tr>\n",
              "    <tr>\n",
              "      <th>max</th>\n",
              "      <td>64.000000</td>\n",
              "      <td>53.130000</td>\n",
              "      <td>5.000000</td>\n",
              "      <td>63770.428010</td>\n",
              "    </tr>\n",
              "  </tbody>\n",
              "</table>\n",
              "</div>\n",
              "      <button class=\"colab-df-convert\" onclick=\"convertToInteractive('df-02c2f3f9-e1bc-4591-ba6d-de8e995dab27')\"\n",
              "              title=\"Convert this dataframe to an interactive table.\"\n",
              "              style=\"display:none;\">\n",
              "        \n",
              "  <svg xmlns=\"http://www.w3.org/2000/svg\" height=\"24px\"viewBox=\"0 0 24 24\"\n",
              "       width=\"24px\">\n",
              "    <path d=\"M0 0h24v24H0V0z\" fill=\"none\"/>\n",
              "    <path d=\"M18.56 5.44l.94 2.06.94-2.06 2.06-.94-2.06-.94-.94-2.06-.94 2.06-2.06.94zm-11 1L8.5 8.5l.94-2.06 2.06-.94-2.06-.94L8.5 2.5l-.94 2.06-2.06.94zm10 10l.94 2.06.94-2.06 2.06-.94-2.06-.94-.94-2.06-.94 2.06-2.06.94z\"/><path d=\"M17.41 7.96l-1.37-1.37c-.4-.4-.92-.59-1.43-.59-.52 0-1.04.2-1.43.59L10.3 9.45l-7.72 7.72c-.78.78-.78 2.05 0 2.83L4 21.41c.39.39.9.59 1.41.59.51 0 1.02-.2 1.41-.59l7.78-7.78 2.81-2.81c.8-.78.8-2.07 0-2.86zM5.41 20L4 18.59l7.72-7.72 1.47 1.35L5.41 20z\"/>\n",
              "  </svg>\n",
              "      </button>\n",
              "      \n",
              "  <style>\n",
              "    .colab-df-container {\n",
              "      display:flex;\n",
              "      flex-wrap:wrap;\n",
              "      gap: 12px;\n",
              "    }\n",
              "\n",
              "    .colab-df-convert {\n",
              "      background-color: #E8F0FE;\n",
              "      border: none;\n",
              "      border-radius: 50%;\n",
              "      cursor: pointer;\n",
              "      display: none;\n",
              "      fill: #1967D2;\n",
              "      height: 32px;\n",
              "      padding: 0 0 0 0;\n",
              "      width: 32px;\n",
              "    }\n",
              "\n",
              "    .colab-df-convert:hover {\n",
              "      background-color: #E2EBFA;\n",
              "      box-shadow: 0px 1px 2px rgba(60, 64, 67, 0.3), 0px 1px 3px 1px rgba(60, 64, 67, 0.15);\n",
              "      fill: #174EA6;\n",
              "    }\n",
              "\n",
              "    [theme=dark] .colab-df-convert {\n",
              "      background-color: #3B4455;\n",
              "      fill: #D2E3FC;\n",
              "    }\n",
              "\n",
              "    [theme=dark] .colab-df-convert:hover {\n",
              "      background-color: #434B5C;\n",
              "      box-shadow: 0px 1px 3px 1px rgba(0, 0, 0, 0.15);\n",
              "      filter: drop-shadow(0px 1px 2px rgba(0, 0, 0, 0.3));\n",
              "      fill: #FFFFFF;\n",
              "    }\n",
              "  </style>\n",
              "\n",
              "      <script>\n",
              "        const buttonEl =\n",
              "          document.querySelector('#df-02c2f3f9-e1bc-4591-ba6d-de8e995dab27 button.colab-df-convert');\n",
              "        buttonEl.style.display =\n",
              "          google.colab.kernel.accessAllowed ? 'block' : 'none';\n",
              "\n",
              "        async function convertToInteractive(key) {\n",
              "          const element = document.querySelector('#df-02c2f3f9-e1bc-4591-ba6d-de8e995dab27');\n",
              "          const dataTable =\n",
              "            await google.colab.kernel.invokeFunction('convertToInteractive',\n",
              "                                                     [key], {});\n",
              "          if (!dataTable) return;\n",
              "\n",
              "          const docLinkHtml = 'Like what you see? Visit the ' +\n",
              "            '<a target=\"_blank\" href=https://colab.research.google.com/notebooks/data_table.ipynb>data table notebook</a>'\n",
              "            + ' to learn more about interactive tables.';\n",
              "          element.innerHTML = '';\n",
              "          dataTable['output_type'] = 'display_data';\n",
              "          await google.colab.output.renderOutput(dataTable, element);\n",
              "          const docLink = document.createElement('div');\n",
              "          docLink.innerHTML = docLinkHtml;\n",
              "          element.appendChild(docLink);\n",
              "        }\n",
              "      </script>\n",
              "    </div>\n",
              "  </div>\n",
              "  "
            ]
          },
          "metadata": {},
          "execution_count": 5
        }
      ]
    },
    {
      "cell_type": "code",
      "source": [
        "data.isnull().sum()"
      ],
      "metadata": {
        "colab": {
          "base_uri": "https://localhost:8080/"
        },
        "id": "FrbdzwWwAuEk",
        "outputId": "d0edb5e3-c046-4d97-e252-b37211d39373"
      },
      "execution_count": 6,
      "outputs": [
        {
          "output_type": "execute_result",
          "data": {
            "text/plain": [
              "age         0\n",
              "sex         0\n",
              "bmi         0\n",
              "children    0\n",
              "smoker      0\n",
              "region      0\n",
              "charges     0\n",
              "dtype: int64"
            ]
          },
          "metadata": {},
          "execution_count": 6
        }
      ]
    },
    {
      "cell_type": "code",
      "source": [
        "data['sex'].value_counts()"
      ],
      "metadata": {
        "colab": {
          "base_uri": "https://localhost:8080/"
        },
        "id": "hmXrfeQoAzF2",
        "outputId": "fb023070-8985-4f22-ee8c-ec9b226f7729"
      },
      "execution_count": 7,
      "outputs": [
        {
          "output_type": "execute_result",
          "data": {
            "text/plain": [
              "male      676\n",
              "female    662\n",
              "Name: sex, dtype: int64"
            ]
          },
          "metadata": {},
          "execution_count": 7
        }
      ]
    },
    {
      "cell_type": "code",
      "source": [
        "data['age'].value_counts()"
      ],
      "metadata": {
        "colab": {
          "base_uri": "https://localhost:8080/"
        },
        "id": "Hx4TiuhfA24N",
        "outputId": "9e11f719-b30e-401c-b051-75716113c716"
      },
      "execution_count": 8,
      "outputs": [
        {
          "output_type": "execute_result",
          "data": {
            "text/plain": [
              "18    69\n",
              "19    68\n",
              "50    29\n",
              "51    29\n",
              "47    29\n",
              "46    29\n",
              "45    29\n",
              "20    29\n",
              "48    29\n",
              "52    29\n",
              "22    28\n",
              "49    28\n",
              "54    28\n",
              "53    28\n",
              "21    28\n",
              "26    28\n",
              "24    28\n",
              "25    28\n",
              "28    28\n",
              "27    28\n",
              "23    28\n",
              "43    27\n",
              "29    27\n",
              "30    27\n",
              "41    27\n",
              "42    27\n",
              "44    27\n",
              "31    27\n",
              "40    27\n",
              "32    26\n",
              "33    26\n",
              "56    26\n",
              "34    26\n",
              "55    26\n",
              "57    26\n",
              "37    25\n",
              "59    25\n",
              "58    25\n",
              "36    25\n",
              "38    25\n",
              "35    25\n",
              "39    25\n",
              "61    23\n",
              "60    23\n",
              "63    23\n",
              "62    23\n",
              "64    22\n",
              "Name: age, dtype: int64"
            ]
          },
          "metadata": {},
          "execution_count": 8
        }
      ]
    },
    {
      "cell_type": "code",
      "source": [
        "data['children'].value_counts()"
      ],
      "metadata": {
        "colab": {
          "base_uri": "https://localhost:8080/"
        },
        "id": "TfHeEyxyA6PM",
        "outputId": "3a936184-41fd-419e-a0e0-36c8c9f0a939"
      },
      "execution_count": 9,
      "outputs": [
        {
          "output_type": "execute_result",
          "data": {
            "text/plain": [
              "0    574\n",
              "1    324\n",
              "2    240\n",
              "3    157\n",
              "4     25\n",
              "5     18\n",
              "Name: children, dtype: int64"
            ]
          },
          "metadata": {},
          "execution_count": 9
        }
      ]
    },
    {
      "cell_type": "code",
      "source": [
        "data['smoker'].value_counts()"
      ],
      "metadata": {
        "colab": {
          "base_uri": "https://localhost:8080/"
        },
        "id": "Z8-ECfR2BAz9",
        "outputId": "1ab87af4-294c-4a1f-a736-9ee7e2c83516"
      },
      "execution_count": 10,
      "outputs": [
        {
          "output_type": "execute_result",
          "data": {
            "text/plain": [
              "no     1064\n",
              "yes     274\n",
              "Name: smoker, dtype: int64"
            ]
          },
          "metadata": {},
          "execution_count": 10
        }
      ]
    },
    {
      "cell_type": "code",
      "source": [
        "data['region'].value_counts()"
      ],
      "metadata": {
        "colab": {
          "base_uri": "https://localhost:8080/"
        },
        "id": "o9LGDdTMBERa",
        "outputId": "e084b4e3-12d2-4778-9634-f5b2c78236ff"
      },
      "execution_count": 11,
      "outputs": [
        {
          "output_type": "execute_result",
          "data": {
            "text/plain": [
              "southeast    364\n",
              "southwest    325\n",
              "northwest    325\n",
              "northeast    324\n",
              "Name: region, dtype: int64"
            ]
          },
          "metadata": {},
          "execution_count": 11
        }
      ]
    },
    {
      "cell_type": "code",
      "source": [
        "data.columns"
      ],
      "metadata": {
        "colab": {
          "base_uri": "https://localhost:8080/"
        },
        "id": "en-pkrURBJNs",
        "outputId": "85ee2c1d-9cfc-4ab5-847b-cb8e5bfc3ec6"
      },
      "execution_count": 12,
      "outputs": [
        {
          "output_type": "execute_result",
          "data": {
            "text/plain": [
              "Index(['age', 'sex', 'bmi', 'children', 'smoker', 'region', 'charges'], dtype='object')"
            ]
          },
          "metadata": {},
          "execution_count": 12
        }
      ]
    },
    {
      "cell_type": "code",
      "source": [
        "# Data Analysis\n",
        "# Age vs Charges\n",
        "# the more the age the more will be insurance charge (roughly estimated)\n",
        "\n",
        "plt.figure(figsize = (12, 8));\n",
        "sns.barplot(x = 'age', y = 'charges', data = data)\n",
        "\n",
        "plt.title(\"Age vs Charges\")"
      ],
      "metadata": {
        "colab": {
          "base_uri": "https://localhost:8080/",
          "height": 530
        },
        "id": "jYO-fyUMBM8B",
        "outputId": "4766a0ba-1694-4e32-d844-9e55a59ee8b2"
      },
      "execution_count": 15,
      "outputs": [
        {
          "output_type": "execute_result",
          "data": {
            "text/plain": [
              "Text(0.5, 1.0, 'Age vs Charges')"
            ]
          },
          "metadata": {},
          "execution_count": 15
        },
        {
          "output_type": "display_data",
          "data": {
            "text/plain": [
              "<Figure size 864x576 with 1 Axes>"
            ],
            "image/png": "[encoded data removed]"
          },
          "metadata": {
            "needs_background": "light"
          }
        }
      ]
    },
    {
      "cell_type": "code",
      "source": [
        "# sex vs charges\n",
        "# males have slightly greater insurance charges than females in general\n",
        "\n",
        "plt.figure(figsize = (6, 6))\n",
        "sns.barplot(x = 'sex', y = 'charges', data = data)\n",
        "\n",
        "plt.title('sex vs charges')"
      ],
      "metadata": {
        "colab": {
          "base_uri": "https://localhost:8080/",
          "height": 421
        },
        "id": "jvu4lDnmBSy4",
        "outputId": "810424f3-c857-42bd-d042-b9bca36d3104"
      },
      "execution_count": 16,
      "outputs": [
        {
          "output_type": "execute_result",
          "data": {
            "text/plain": [
              "Text(0.5, 1.0, 'sex vs charges')"
            ]
          },
          "metadata": {},
          "execution_count": 16
        },
        {
          "output_type": "display_data",
          "data": {
            "text/plain": [
              "<Figure size 432x432 with 1 Axes>"
            ],
            "image/png": "[encoded data removed]"
          },
          "metadata": {
            "needs_background": "light"
          }
        }
      ]
    },
    {
      "cell_type": "code",
      "source": [
        "# children vs charges\n",
        "# no. of childrens of a person has a very interesting dependency on insurance costs\n",
        "\n",
        "plt.figure(figsize = (12, 8))\n",
        "sns.barplot(x = 'children', y = 'charges', data = data)\n",
        "\n",
        "plt.title('children vs charges')"
      ],
      "metadata": {
        "colab": {
          "base_uri": "https://localhost:8080/",
          "height": 530
        },
        "id": "2Dh3nu8zBgHZ",
        "outputId": "dc26fb1f-5f7b-4136-e6b4-2b956d4a1234"
      },
      "execution_count": 17,
      "outputs": [
        {
          "output_type": "execute_result",
          "data": {
            "text/plain": [
              "Text(0.5, 1.0, 'children vs charges')"
            ]
          },
          "metadata": {},
          "execution_count": 17
        },
        {
          "output_type": "display_data",
          "data": {
            "text/plain": [
              "<Figure size 864x576 with 1 Axes>"
            ],
            "image/png": "[encoded data removed]"
          },
          "metadata": {
            "needs_background": "light"
          }
        }
      ]
    },
    {
      "cell_type": "code",
      "source": [
        "# region vs charges\n",
        "# From the graph we can see that the region actually does not play any role in determining the insurance charges\n",
        "\n",
        "plt.figure(figsize = (12, 8))\n",
        "sns.barplot(x = 'region', y = 'charges', data = data)\n",
        "\n",
        "plt.title('region vs charges')"
      ],
      "metadata": {
        "colab": {
          "base_uri": "https://localhost:8080/",
          "height": 530
        },
        "id": "CpeQFySMBlkL",
        "outputId": "2c420d4d-0a86-42a0-fb8b-1e4847bdbdac"
      },
      "execution_count": 18,
      "outputs": [
        {
          "output_type": "execute_result",
          "data": {
            "text/plain": [
              "Text(0.5, 1.0, 'region vs charges')"
            ]
          },
          "metadata": {},
          "execution_count": 18
        },
        {
          "output_type": "display_data",
          "data": {
            "text/plain": [
              "<Figure size 864x576 with 1 Axes>"
            ],
            "image/png": "[encoded data removed]"
          },
          "metadata": {
            "needs_background": "light"
          }
        }
      ]
    },
    {
      "cell_type": "code",
      "source": [
        "# smoker vs charges\n",
        "# from the graph below, it is visible that smokers have more insurance charges than the non smokers\n",
        "\n",
        "plt.figure(figsize = (6, 6))\n",
        "sns.barplot(x = 'smoker', y = 'charges', data = data)\n",
        "\n",
        "plt.title('smoker vs charges')"
      ],
      "metadata": {
        "colab": {
          "base_uri": "https://localhost:8080/",
          "height": 421
        },
        "id": "x0qEWbhYBp0U",
        "outputId": "af00b915-ed33-453a-b35d-097a39c0ddef"
      },
      "execution_count": 19,
      "outputs": [
        {
          "output_type": "execute_result",
          "data": {
            "text/plain": [
              "Text(0.5, 1.0, 'smoker vs charges')"
            ]
          },
          "metadata": {},
          "execution_count": 19
        },
        {
          "output_type": "display_data",
          "data": {
            "text/plain": [
              "<Figure size 432x432 with 1 Axes>"
            ],
            "image/png": "[encoded data removed]"
          },
          "metadata": {
            "needs_background": "light"
          }
        }
      ]
    },
    {
      "cell_type": "code",
      "source": [
        "# Correlation plot\n",
        "# plotting the correlation plot for the dataset\n",
        "\n",
        "f, ax = plt.subplots(figsize = (10, 10))\n",
        "\n",
        "corr = data.corr()\n",
        "sns.heatmap(corr, mask = np.zeros_like(corr, dtype = np.bool), \n",
        "            cmap = sns.diverging_palette(50, 10, as_cmap = True), square = True, ax = ax)"
      ],
      "metadata": {
        "colab": {
          "base_uri": "https://localhost:8080/",
          "height": 667
        },
        "id": "Veg1QQzwBx3r",
        "outputId": "f7551180-1aee-4f68-a5a6-24180381cb69"
      },
      "execution_count": 20,
      "outputs": [
        {
          "output_type": "stream",
          "name": "stderr",
          "text": [
            "/usr/local/lib/python3.7/dist-packages/ipykernel_launcher.py:7: DeprecationWarning: `np.bool` is a deprecated alias for the builtin `bool`. To silence this warning, use `bool` by itself. Doing this will not modify any behavior and is safe. If you specifically wanted the numpy scalar type, use `np.bool_` here.\n",
            "Deprecated in NumPy 1.20; for more details and guidance: https://numpy.org/devdocs/release/1.20.0-notes.html#deprecations\n",
            "  import sys\n"
          ]
        },
        {
          "output_type": "execute_result",
          "data": {
            "text/plain": [
              "<matplotlib.axes._subplots.AxesSubplot at 0x7fa3d947c310>"
            ]
          },
          "metadata": {},
          "execution_count": 20
        },
        {
          "output_type": "display_data",
          "data": {
            "text/plain": [
              "<Figure size 720x720 with 2 Axes>"
            ],
            "image/png": "[encoded data removed]"
          },
          "metadata": {
            "needs_background": "light"
          }
        }
      ]
    },
    {
      "cell_type": "code",
      "source": [
        "# Data Pre-Processing\n",
        "# removing unnecassary columns from the dataset\n",
        "\n",
        "data = data.drop('region', axis = 1)\n",
        "\n",
        "print(data.shape)\n",
        "\n",
        "data.columns"
      ],
      "metadata": {
        "colab": {
          "base_uri": "https://localhost:8080/"
        },
        "id": "e85Qzj9QB5EF",
        "outputId": "a7e905a5-c26b-47f2-d529-72868a944c7a"
      },
      "execution_count": 21,
      "outputs": [
        {
          "output_type": "stream",
          "name": "stdout",
          "text": [
            "(1338, 6)\n"
          ]
        },
        {
          "output_type": "execute_result",
          "data": {
            "text/plain": [
              "Index(['age', 'sex', 'bmi', 'children', 'smoker', 'charges'], dtype='object')"
            ]
          },
          "metadata": {},
          "execution_count": 21
        }
      ]
    },
    {
      "cell_type": "code",
      "source": [
        "# label encoding for sex and smoker\n",
        "\n",
        "# importing label encoder\n",
        "from sklearn.preprocessing import LabelEncoder\n",
        "\n",
        "# creating a label encoder\n",
        "le = LabelEncoder()\n",
        "\n",
        "\n",
        "# label encoding for sex\n",
        "# 0 for females and 1 for males\n",
        "data['sex'] = le.fit_transform(data['sex'])\n",
        "\n",
        "# label encoding for smoker\n",
        "# 0 for smokers and 1 for non smokers\n",
        "data['smoker'] = le.fit_transform(data['smoker'])"
      ],
      "metadata": {
        "id": "FdWlrfZNCA47"
      },
      "execution_count": 22,
      "outputs": []
    },
    {
      "cell_type": "code",
      "source": [
        "data['sex'].value_counts()"
      ],
      "metadata": {
        "colab": {
          "base_uri": "https://localhost:8080/"
        },
        "id": "0ea_23hUCFWi",
        "outputId": "f7bbf93c-94aa-4be7-b746-079e7dc35bf9"
      },
      "execution_count": 23,
      "outputs": [
        {
          "output_type": "execute_result",
          "data": {
            "text/plain": [
              "1    676\n",
              "0    662\n",
              "Name: sex, dtype: int64"
            ]
          },
          "metadata": {},
          "execution_count": 23
        }
      ]
    },
    {
      "cell_type": "code",
      "source": [
        "data['smoker'].value_counts()"
      ],
      "metadata": {
        "colab": {
          "base_uri": "https://localhost:8080/"
        },
        "id": "KKk5cn1QCKEC",
        "outputId": "5aaf0e12-4792-4f58-f619-6c3d58735a43"
      },
      "execution_count": 24,
      "outputs": [
        {
          "output_type": "execute_result",
          "data": {
            "text/plain": [
              "0    1064\n",
              "1     274\n",
              "Name: smoker, dtype: int64"
            ]
          },
          "metadata": {},
          "execution_count": 24
        }
      ]
    },
    {
      "cell_type": "code",
      "source": [
        "# splitting the dependent and independent variable\n",
        "\n",
        "x = data.iloc[:,:5]\n",
        "y = data.iloc[:,5]\n",
        "\n",
        "print(x.shape)\n",
        "print(y.shape)"
      ],
      "metadata": {
        "colab": {
          "base_uri": "https://localhost:8080/"
        },
        "id": "IpgPorRjCOHV",
        "outputId": "c82abe3b-cc4f-487e-9359-43d5406c770b"
      },
      "execution_count": 25,
      "outputs": [
        {
          "output_type": "stream",
          "name": "stdout",
          "text": [
            "(1338, 5)\n",
            "(1338,)\n"
          ]
        }
      ]
    },
    {
      "cell_type": "code",
      "source": [
        "# splitting the dataset into training and testing sets\n",
        "import sklearn\n",
        "from sklearn.model_selection import train_test_split\n",
        "\n",
        "x_train, x_test, y_train, y_test = train_test_split(x, y, test_size = 0.2, random_state = 30)\n",
        "\n",
        "print(x_train.shape)\n",
        "print(x_test.shape)\n",
        "print(y_train.shape)\n",
        "print(y_test.shape)"
      ],
      "metadata": {
        "colab": {
          "base_uri": "https://localhost:8080/"
        },
        "id": "IZugqmWQCVdc",
        "outputId": "ba14a83b-8d5e-4572-95a9-35cdf8313587"
      },
      "execution_count": 28,
      "outputs": [
        {
          "output_type": "stream",
          "name": "stdout",
          "text": [
            "(1070, 5)\n",
            "(268, 5)\n",
            "(1070,)\n",
            "(268,)\n"
          ]
        }
      ]
    },
    {
      "cell_type": "code",
      "source": [
        "# standard scaling\n",
        "\n",
        "from sklearn.preprocessing import StandardScaler\n",
        "\n",
        "# creating a standard scaler\n",
        "sc = StandardScaler()\n",
        "\n",
        "# feeding independents sets into the standard scaler\n",
        "x_train = sc.fit_transform(x_train)\n",
        "x_test = sc.fit_transform(x_test)\n",
        "\n"
      ],
      "metadata": {
        "id": "e8QOwJc8CZPf"
      },
      "execution_count": 29,
      "outputs": []
    },
    {
      "cell_type": "markdown",
      "source": [
        "# Modelling\n",
        "# Linear Regression"
      ],
      "metadata": {
        "id": "aXOpwf0ADCuk"
      }
    },
    {
      "cell_type": "code",
      "source": [
        "from sklearn.linear_model import LinearRegression\n",
        "from sklearn.metrics import r2_score\n",
        "\n",
        "\n",
        "# creating the model\n",
        "model = LinearRegression()\n",
        "\n",
        "# feeding the training data to the model\n",
        "model.fit(x_train, y_train)\n",
        "\n",
        "# predicting the test set results\n",
        "y_pred = model.predict(x_test)\n",
        "\n",
        "# calculating the mean squared error\n",
        "mse = np.mean((y_test - y_pred)**2, axis = None)\n",
        "print(\"MSE :\", mse)\n",
        "\n",
        "# Calculating the root mean squared error\n",
        "rmse = np.sqrt(mse)\n",
        "print(\"RMSE :\", rmse)\n",
        "\n",
        "# Calculating the r2 score\n",
        "r2 = r2_score(y_test, y_pred)\n",
        "print(\"r2 score :\", r2)\n",
        "\n"
      ],
      "metadata": {
        "colab": {
          "base_uri": "https://localhost:8080/"
        },
        "id": "xIEh1mtTDB1l",
        "outputId": "24941418-3fb0-4985-ca57-a5ef486c6962"
      },
      "execution_count": 31,
      "outputs": [
        {
          "output_type": "stream",
          "name": "stdout",
          "text": [
            "MSE : 37806750.250076555\n",
            "RMSE : 6148.719399198223\n",
            "r2 score : 0.75490433195409\n"
          ]
        }
      ]
    },
    {
      "cell_type": "code",
      "source": [
        "y_test"
      ],
      "metadata": {
        "colab": {
          "base_uri": "https://localhost:8080/"
        },
        "id": "rJe7K5jADNck",
        "outputId": "8cba389d-9e08-4e66-e826-2cdb34d4846e"
      },
      "execution_count": 32,
      "outputs": [
        {
          "output_type": "execute_result",
          "data": {
            "text/plain": [
              "338    41919.09700\n",
              "620     3659.34600\n",
              "965     4746.34400\n",
              "128    32734.18630\n",
              "329     9144.56500\n",
              "          ...     \n",
              "580    12913.99240\n",
              "786    12741.16745\n",
              "321    24671.66334\n",
              "903     8125.78450\n",
              "613     6753.03800\n",
              "Name: charges, Length: 268, dtype: float64"
            ]
          },
          "metadata": {},
          "execution_count": 32
        }
      ]
    },
    {
      "cell_type": "code",
      "source": [
        "y_pred"
      ],
      "metadata": {
        "colab": {
          "base_uri": "https://localhost:8080/"
        },
        "id": "1bLt0dQNDUcN",
        "outputId": "0329fe29-e43b-4b21-c160-efcfd26dff63"
      },
      "execution_count": 33,
      "outputs": [
        {
          "output_type": "execute_result",
          "data": {
            "text/plain": [
              "array([34463.03582081,  5351.63285316,  5380.9763682 , 25960.03740848,\n",
              "       12496.7519736 ,  6408.63819349,  4081.62037308,  9300.34454944,\n",
              "       32957.30705757, 10937.63104598,  7519.13584334,  9726.30820152,\n",
              "       34438.32925237, 11046.23596617,   819.90626006, 35368.51634447,\n",
              "       11430.73775682,  8747.50405981, 28520.23066838, 10780.77269818,\n",
              "         885.55261833,  8140.91449068,  7686.87521254, 10734.04414171,\n",
              "       32605.85490348, 38733.33147903, 14385.6266007 ,  2947.77854767,\n",
              "       10456.87417122, 14224.24201886,  1675.51537561, 30193.11285619,\n",
              "         944.28091937, 14459.05536274, 12261.67368565,  8411.64973742,\n",
              "        1863.86250159,  6487.85043844,   186.61387983,  8192.76868362,\n",
              "        6366.87004436, 33513.53920691,  2007.49195393, 13551.24985198,\n",
              "       10145.95016308, 29556.16908321,  4878.71697149,  2536.59789849,\n",
              "        2321.4068302 ,  4974.23941116, 10987.31701618, 12416.97110239,\n",
              "       11958.11247547,   878.6345611 , 10867.31696491,  7014.47673418,\n",
              "       30770.43624113,  3085.98932145, 12488.52222358,  4450.51876345,\n",
              "       14678.35341681, 10623.53897858, 10948.69439689,  7374.3905582 ,\n",
              "        -978.28401768,  7629.31479487,  9810.98011112,  1149.77856134,\n",
              "        2548.43516479, 14512.29061742, 10501.54007914,  1841.39577283,\n",
              "        -224.99158618,  9265.54108489, 15755.42309527, -1149.84543201,\n",
              "       12147.72995061,  9330.21802531, 30356.77333761,  3653.33962314,\n",
              "         545.20515877, 10684.17012809,  9022.73780012, 30272.28911391,\n",
              "         672.42427126, 16353.28226251,  9013.53855958, 16932.14101336,\n",
              "        8763.20999857, 10702.14625251, 13652.63310542, 13267.91285269,\n",
              "       26057.54552337, 10462.48053567, 36423.84250946,  5145.79821997,\n",
              "        9532.35471109,   926.07280238,  6635.18312192, 34906.78798409,\n",
              "       34158.76753135,  8214.44050747,  9411.37431701,  7688.53439131,\n",
              "       32529.66951388, 25511.65654536,  6777.39016891, 35454.16845154,\n",
              "       33219.62747392,  1609.23659071,  9998.79727626,  6353.29894664,\n",
              "         320.81484993, 27468.57195946,  5412.16153686,  3715.05350858,\n",
              "       12262.46070132,  9555.31534078,  9525.43925938, 14595.51230853,\n",
              "        3855.21657588, 12023.31930406, 35841.13122215, 13831.8140877 ,\n",
              "       29096.40483881, 10532.1206343 , 13508.47897596,  8307.15708673,\n",
              "       30641.07975475, 11799.75474899, 10913.21723476,  5051.51282042,\n",
              "       33133.81423905, 26496.77934186, 11907.79372111,  2425.45213464,\n",
              "       40073.30105238, 24746.02998359, 11451.66087289,  6106.9080695 ,\n",
              "       12198.53478933,  9957.56176616,  3122.99924398, 36902.66308138,\n",
              "        7459.50720854, 10429.20194228,  5980.51463811,  3054.09411045,\n",
              "        9315.71342431, 32270.66906763, 15567.01745264,  6190.19131299,\n",
              "       10564.69475393,  5912.3169414 ,  8956.52809931,  7866.35712614,\n",
              "        4482.86660442, 12337.22896928, 17313.76229093,  4826.20493211,\n",
              "       10269.27278997, 30934.25920084, 13836.30990308,  9759.65327348,\n",
              "       14733.9054845 , 15013.31001096, 33913.26345748,  7685.12399007,\n",
              "        6632.4958633 ,  1590.05645034,  7995.5233211 , 11485.27653018,\n",
              "        5580.34296861,  4338.74057296, 32717.41202635,  6957.46627391,\n",
              "        2839.55977889,  9807.06898534, 14354.56271204, 29550.1352964 ,\n",
              "       10182.87486551, 13822.99846572,  1005.51668237,    72.32794253,\n",
              "       38413.17781168, 27229.70114753, 26637.25516294,  6556.18926638,\n",
              "       30858.07120572, 14228.50887739,  -840.07324389,  8911.75183635,\n",
              "       13619.1000627 , 11509.23467571,  1418.8785819 , 12148.43710257,\n",
              "       15333.31465784, 30788.34335414, 29654.44554492,  5250.65574769,\n",
              "        9583.20074809,  2499.54931054,  7215.57463317,  6645.54235659,\n",
              "       27220.16759396,   814.5900473 ,  4515.0133017 , 36332.3988849 ,\n",
              "       34805.58973835, 36453.53611601,  6103.58021016,  6986.1079207 ,\n",
              "       38454.74734995,  6306.68110274,  5287.9666742 , 37881.90632257,\n",
              "        5323.26143416,  2394.72227414, 16398.81765532, 27936.09993877,\n",
              "        9817.33743134, 37684.21361379, 11562.07174432,  1278.94736183,\n",
              "        2650.87305617,  9439.79236335,  8875.89112834,  6930.15238323,\n",
              "        7026.85741912,  2642.02137428,  9024.07462785, 10720.6914334 ,\n",
              "        9706.00665978, 12744.94323341,  9489.66377145, 31193.25443604,\n",
              "       29453.69520459, 11057.63638097,  6926.14257954, 27519.87626768,\n",
              "       16100.18911202, 14502.11378493,  8747.28306487,  5392.53926128,\n",
              "       15805.26112166, 10823.34510868,  1127.65410752,  3976.08097368,\n",
              "        4994.98837183, 14941.72586559,  4270.84084452, 10243.5168673 ,\n",
              "       13430.53447465, 36555.13522602, 24709.58072542,  3897.41325707,\n",
              "       11426.28321239, 10864.09981814, 10704.65146648, 26290.07775662,\n",
              "        9177.5825869 , 15075.22243459,  5366.66213128, 11346.31472796,\n",
              "       14730.95067629,  5355.25346971, 11734.22431433,  3840.88359743])"
            ]
          },
          "metadata": {},
          "execution_count": 33
        }
      ]
    },
    {
      "cell_type": "markdown",
      "source": [
        "# SVM\n"
      ],
      "metadata": {
        "id": "TxOua33jDdcq"
      }
    },
    {
      "cell_type": "code",
      "source": [
        "from sklearn.svm import SVR\n",
        "\n",
        "# creating the model\n",
        "model = SVR()\n",
        "\n",
        "# feeding the training data to the model\n",
        "model.fit(x_train, y_train)\n",
        "\n",
        "# predicting the test set results\n",
        "y_pred = model.predict(x_test)\n",
        "\n",
        "# calculating the mean squared error\n",
        "mse = np.mean((y_test - y_pred)**2, axis = None)\n",
        "print(\"MSE :\", mse)\n",
        "\n",
        "# Calculating the root mean squared error\n",
        "rmse = np.sqrt(mse)\n",
        "print(\"RMSE :\", rmse)\n",
        "\n",
        "# Calculating the r2 score\n",
        "r2 = r2_score(y_test, y_pred)\n",
        "print(\"r2 score :\", r2)\n"
      ],
      "metadata": {
        "colab": {
          "base_uri": "https://localhost:8080/"
        },
        "id": "-QJou8epDYvK",
        "outputId": "4376687e-c43b-47ab-c159-a4207897281e"
      },
      "execution_count": 34,
      "outputs": [
        {
          "output_type": "stream",
          "name": "stdout",
          "text": [
            "MSE : 174595630.81989565\n",
            "RMSE : 13213.46399775228\n",
            "r2 score : -0.13187810353027452\n"
          ]
        }
      ]
    },
    {
      "cell_type": "markdown",
      "source": [
        "# Random Forest"
      ],
      "metadata": {
        "id": "7hliPUFCDkdB"
      }
    },
    {
      "cell_type": "code",
      "source": [
        "from sklearn.ensemble import RandomForestRegressor\n",
        "\n",
        "# creating the model\n",
        "model = RandomForestRegressor(n_estimators = 40, max_depth = 4, n_jobs = -1)\n",
        "\n",
        "# feeding the training data to the model\n",
        "model.fit(x_train, y_train)\n",
        "\n",
        "# predicting the test set results\n",
        "y_pred = model.predict(x_test)\n",
        "\n",
        "# calculating the mean squared error\n",
        "mse = np.mean((y_test - y_pred)**2, axis = None)\n",
        "print(\"MSE :\", mse)\n",
        "\n",
        "# Calculating the root mean squared error\n",
        "rmse = np.sqrt(mse)\n",
        "print(\"RMSE :\", rmse)\n",
        "\n",
        "# Calculating the r2 score\n",
        "r2 = r2_score(y_test, y_pred)\n",
        "print(\"r2 score :\", r2)\n"
      ],
      "metadata": {
        "colab": {
          "base_uri": "https://localhost:8080/"
        },
        "id": "vzJetVu3DhTk",
        "outputId": "8720935a-20de-4b39-e3f9-f6a4c6b2654e"
      },
      "execution_count": 35,
      "outputs": [
        {
          "output_type": "stream",
          "name": "stdout",
          "text": [
            "MSE : 21207834.170653727\n",
            "RMSE : 4605.196431277794\n",
            "r2 score : 0.862512692852972\n"
          ]
        }
      ]
    },
    {
      "cell_type": "code",
      "source": [
        "print(y_pred)\n"
      ],
      "metadata": {
        "colab": {
          "base_uri": "https://localhost:8080/"
        },
        "id": "Uz-XDTksDpkx",
        "outputId": "464cf0ff-66be-4c07-a304-91cf56bfba7c"
      },
      "execution_count": 36,
      "outputs": [
        {
          "output_type": "stream",
          "name": "stdout",
          "text": [
            "[44377.0328857   5291.55558357  5812.42615488 17319.53794825\n",
            " 10580.36845617  5395.8892275   2819.13246814 10452.29921544\n",
            " 43345.56001712 13303.32124782  6674.8213156  10290.56655322\n",
            " 44691.329825   12989.62066951  2819.13246814 25216.77662404\n",
            " 10295.50725591  9198.2496735  17949.16486467  9849.32839508\n",
            "  2819.13246814  6459.09046321 10132.01249052  7740.82824611\n",
            " 25541.53243211 45419.36583529 13959.3651773   4995.06703218\n",
            "  6907.83932825 10952.45087517  4886.61436359 37886.21785722\n",
            "  2960.04713544 10626.53676539 13250.08702519  6459.09046321\n",
            "  2861.21376316  6660.51243923  2819.13246814  5971.4222169\n",
            "  6841.01435958 24045.57160854  4075.67019222 13250.08702519\n",
            "  6675.67045299 39001.43488962  6685.44921898  2819.13246814\n",
            "  3973.33459021  6337.65830709  7107.06041633 10118.41652439\n",
            " 13359.32394503  2819.13246814  6956.12029412  7699.51369244\n",
            " 20583.93788076  4629.18183316 13250.08702519  6634.06902553\n",
            " 13298.78353484  6096.80424659 10849.06810913  4857.06855655\n",
            "  2819.13246814  5244.1237551  10432.64586172  4886.61436359\n",
            "  6211.99489755 13495.26577296 14434.7408947   2861.21376316\n",
            "  3700.1557545   9574.20322355 16105.94013358  3903.2008223\n",
            "  9367.72016159  9868.26580982 19759.48529777  4075.67019222\n",
            "  2861.21376316  9103.53410916  6212.26731037 19371.442743\n",
            "  2861.21376316 14753.13797541  6782.45729856 14816.85224211\n",
            " 10203.5438959   7205.08483361 14515.67079713 13170.16353554\n",
            " 36303.07485915  7058.77945047 26970.48449582  4247.50351025\n",
            " 10437.44976985  6401.27271447  6473.57113423 45419.36583529\n",
            " 44377.0328857  13232.87138945  7437.7722193   4711.03671424\n",
            " 39506.42925764 17499.7126914   6774.03090426 44471.09872198\n",
            " 26373.04663322  2960.04713544 13223.39775817  7235.39621525\n",
            "  6643.86481206 17818.54219572  4247.50351025  5524.03504837\n",
            " 13250.08702519  6567.00079375  8560.28510639  9703.74062865\n",
            "  3601.28013738  6910.39224611 26207.5585137  14010.80965351\n",
            " 19371.442743   13984.46891941 14507.95922764  7325.43892565\n",
            " 23055.4892247  13045.62336672 10662.28035362  4552.47980093\n",
            " 39952.13786059 36478.80385362 13359.32394503  2819.13246814\n",
            " 46153.05338421 18507.57356    14012.59939994  6599.13551166\n",
            " 13045.62336672 10493.5803071   5419.70140445 45419.36583529\n",
            "  6984.59062366 10667.08426175  4927.08278894  6949.73796693\n",
            "  7221.31735697 26089.09022307 13484.98428559  9322.80636083\n",
            "  6271.89667504  7686.46939175  6723.10228147  7173.18269349\n",
            "  2861.21376316 13306.0897224  13906.25061746  2861.21376316\n",
            "  9822.96105484 38839.3972785  10534.99550911  9568.60187242\n",
            " 10648.00940514 14010.80965351 41866.8209509   6422.12734558\n",
            "  5347.60826164  4324.20554248  6944.99520507 13162.84170691\n",
            "  7174.03288794  5291.55558357 38663.66828403  9272.9710998\n",
            "  2819.13246814  4552.47980093 14507.95922764 19759.48529777\n",
            " 10094.70402997 13290.80211448  2861.21376316  2861.21376316\n",
            " 45552.60271829 39001.43488962 17319.53794825  6629.60861616\n",
            " 39677.06066882 10580.36845617  2819.13246814  4768.09432304\n",
            " 14001.68455514 10975.84403329  2861.21376316 13306.0897224\n",
            " 16161.94283079 26221.91684142 37937.06075716  5384.20898946\n",
            "  6848.20996358  2819.13246814  6708.79340509  5581.96650392\n",
            " 38510.15744991  6734.22707294  3002.12843046 45419.36583529\n",
            " 43432.02719811 42283.72882573  6639.00507535  6716.51343379\n",
            " 46153.05338421  9322.80636083  4857.06855655 45990.874821\n",
            "  4247.50351025  2861.21376316 14079.79054605 17319.53794825\n",
            "  6830.73826443 45578.32442666  7800.45761078  2819.13246814\n",
            "  4629.18183316  7269.59832284  6561.63682211  4552.47980093\n",
            "  6901.3575327   2861.21376316  7420.30052014 13098.85758935\n",
            "  9568.60187242 13306.0897224  10381.67364436 26915.17685817\n",
            " 39001.43488962 13162.84170691  6917.89279837 37211.99074008\n",
            " 14760.8495449  15669.73720293 10172.58152945  2861.21376316\n",
            " 15551.39632175 13984.46891941  2861.21376316  2960.04713544\n",
            "  4496.42712287 13495.26577296  6938.68707595 10173.62972542\n",
            " 10911.88183624 26753.18786242 19296.80442231  6504.16007504\n",
            " 10848.7086405  10635.5816572  13303.32124782 19372.54101175\n",
            "  6627.38948713 14001.68455514  4552.47980093 13757.64796737\n",
            " 13431.77537442  6841.07795478 10235.35335219  7035.86498875]\n"
          ]
        }
      ]
    },
    {
      "cell_type": "code",
      "source": [
        "print(y_test)"
      ],
      "metadata": {
        "colab": {
          "base_uri": "https://localhost:8080/"
        },
        "id": "0i53pFzoDvNl",
        "outputId": "a688d305-d4fd-4e4f-9c46-e649392ca4e1"
      },
      "execution_count": 37,
      "outputs": [
        {
          "output_type": "stream",
          "name": "stdout",
          "text": [
            "338    41919.09700\n",
            "620     3659.34600\n",
            "965     4746.34400\n",
            "128    32734.18630\n",
            "329     9144.56500\n",
            "          ...     \n",
            "580    12913.99240\n",
            "786    12741.16745\n",
            "321    24671.66334\n",
            "903     8125.78450\n",
            "613     6753.03800\n",
            "Name: charges, Length: 268, dtype: float64\n"
          ]
        }
      ]
    },
    {
      "cell_type": "markdown",
      "source": [
        "# Decision Tree"
      ],
      "metadata": {
        "id": "RVXkfA8XD5PE"
      }
    },
    {
      "cell_type": "code",
      "source": [
        "from sklearn.tree import DecisionTreeRegressor\n",
        "\n",
        "# creating the model\n",
        "model = DecisionTreeRegressor()\n",
        "\n",
        "# feeding the training data to the model\n",
        "model.fit(x_train, y_train)\n",
        "\n",
        "# predicting the test set results\n",
        "y_pred = model.predict(x_test)\n",
        "\n",
        "# calculating the mean squared error\n",
        "mse = np.mean((y_test - y_pred)**2, axis = None)\n",
        "print(\"MSE :\", mse)\n",
        "\n",
        "# Calculating the root mean squared error\n",
        "rmse = np.sqrt(mse)\n",
        "print(\"RMSE :\", rmse)\n",
        "\n",
        "# Calculating the r2 score\n",
        "r2 = r2_score(y_test, y_pred)\n",
        "print(\"r2 score :\", r2)\n"
      ],
      "metadata": {
        "colab": {
          "base_uri": "https://localhost:8080/"
        },
        "id": "XjjDXX9vDzxw",
        "outputId": "8b724132-50ae-4760-dbb0-dce799b28dbd"
      },
      "execution_count": 38,
      "outputs": [
        {
          "output_type": "stream",
          "name": "stdout",
          "text": [
            "MSE : 42221604.214429334\n",
            "RMSE : 6497.815341669024\n",
            "r2 score : 0.7262834752403875\n"
          ]
        }
      ]
    },
    {
      "cell_type": "code",
      "source": [],
      "metadata": {
        "id": "j7dhp_TBD9Fk"
      },
      "execution_count": null,
      "outputs": []
    }
  ]
}